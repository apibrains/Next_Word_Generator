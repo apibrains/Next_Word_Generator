{
 "cells": [
  {
   "cell_type": "code",
   "execution_count": 1,
   "id": "bb4fb31e-9d59-4a05-aec7-58d0117954d7",
   "metadata": {
    "tags": []
   },
   "outputs": [
    {
     "name": "stdout",
     "output_type": "stream",
     "text": [
      "Collecting seaborn\n",
      "  Obtaining dependency information for seaborn from https://files.pythonhosted.org/packages/7b/e5/83fcd7e9db036c179e0352bfcd20f81d728197a16f883e7b90307a88e65e/seaborn-0.13.0-py3-none-any.whl.metadata\n",
      "  Using cached seaborn-0.13.0-py3-none-any.whl.metadata (5.3 kB)\n",
      "Requirement already satisfied: numpy!=1.24.0,>=1.20 in /opt/conda/envs/sagemaker-distribution/lib/python3.8/site-packages (from seaborn) (1.24.4)\n",
      "Requirement already satisfied: pandas>=1.2 in /opt/conda/envs/sagemaker-distribution/lib/python3.8/site-packages (from seaborn) (2.0.3)\n",
      "Requirement already satisfied: matplotlib!=3.6.1,>=3.3 in /opt/conda/envs/sagemaker-distribution/lib/python3.8/site-packages (from seaborn) (3.7.2)\n",
      "Requirement already satisfied: contourpy>=1.0.1 in /opt/conda/envs/sagemaker-distribution/lib/python3.8/site-packages (from matplotlib!=3.6.1,>=3.3->seaborn) (1.1.0)\n",
      "Requirement already satisfied: cycler>=0.10 in /opt/conda/envs/sagemaker-distribution/lib/python3.8/site-packages (from matplotlib!=3.6.1,>=3.3->seaborn) (0.11.0)\n",
      "Requirement already satisfied: fonttools>=4.22.0 in /opt/conda/envs/sagemaker-distribution/lib/python3.8/site-packages (from matplotlib!=3.6.1,>=3.3->seaborn) (4.42.0)\n",
      "Requirement already satisfied: kiwisolver>=1.0.1 in /opt/conda/envs/sagemaker-distribution/lib/python3.8/site-packages (from matplotlib!=3.6.1,>=3.3->seaborn) (1.4.4)\n",
      "Requirement already satisfied: packaging>=20.0 in /opt/conda/envs/sagemaker-distribution/lib/python3.8/site-packages (from matplotlib!=3.6.1,>=3.3->seaborn) (23.1)\n",
      "Requirement already satisfied: pillow>=6.2.0 in /opt/conda/envs/sagemaker-distribution/lib/python3.8/site-packages (from matplotlib!=3.6.1,>=3.3->seaborn) (10.0.0)\n",
      "Requirement already satisfied: pyparsing<3.1,>=2.3.1 in /opt/conda/envs/sagemaker-distribution/lib/python3.8/site-packages (from matplotlib!=3.6.1,>=3.3->seaborn) (3.0.9)\n",
      "Requirement already satisfied: python-dateutil>=2.7 in /opt/conda/envs/sagemaker-distribution/lib/python3.8/site-packages (from matplotlib!=3.6.1,>=3.3->seaborn) (2.8.2)\n",
      "Requirement already satisfied: importlib-resources>=3.2.0 in /opt/conda/envs/sagemaker-distribution/lib/python3.8/site-packages (from matplotlib!=3.6.1,>=3.3->seaborn) (6.0.1)\n",
      "Requirement already satisfied: pytz>=2020.1 in /opt/conda/envs/sagemaker-distribution/lib/python3.8/site-packages (from pandas>=1.2->seaborn) (2023.3)\n",
      "Requirement already satisfied: tzdata>=2022.1 in /opt/conda/envs/sagemaker-distribution/lib/python3.8/site-packages (from pandas>=1.2->seaborn) (2023.3)\n",
      "Requirement already satisfied: zipp>=3.1.0 in /opt/conda/envs/sagemaker-distribution/lib/python3.8/site-packages (from importlib-resources>=3.2.0->matplotlib!=3.6.1,>=3.3->seaborn) (3.16.2)\n",
      "Requirement already satisfied: six>=1.5 in /opt/conda/envs/sagemaker-distribution/lib/python3.8/site-packages (from python-dateutil>=2.7->matplotlib!=3.6.1,>=3.3->seaborn) (1.16.0)\n",
      "Using cached seaborn-0.13.0-py3-none-any.whl (294 kB)\n",
      "Installing collected packages: seaborn\n",
      "Successfully installed seaborn-0.13.0\n"
     ]
    }
   ],
   "source": [
    "!pip install seaborn"
   ]
  },
  {
   "cell_type": "code",
   "execution_count": 45,
   "id": "09a3914f-0016-40e0-b5f1-de2a181baf3a",
   "metadata": {},
   "outputs": [],
   "source": [
    "import numpy as np\n",
    "import pandas as pd\n",
    "import tensorflow as tf\n",
    "import matplotlib.pyplot as plt\n",
    "import seaborn as sns\n",
    "\n",
    "from tensorflow.keras.preprocessing.text import Tokenizer"
   ]
  },
  {
   "cell_type": "code",
   "execution_count": 46,
   "id": "a478431d-164c-40fd-a775-2525b03b30b6",
   "metadata": {},
   "outputs": [],
   "source": [
    "df = pd.read_csv(\"../data/data1.csv\")"
   ]
  },
  {
   "cell_type": "code",
   "execution_count": 47,
   "id": "61934a3e-d57e-4c4e-8540-a28049cb63de",
   "metadata": {
    "tags": []
   },
   "outputs": [
    {
     "data": {
      "text/html": [
       "<div>\n",
       "<style scoped>\n",
       "    .dataframe tbody tr th:only-of-type {\n",
       "        vertical-align: middle;\n",
       "    }\n",
       "\n",
       "    .dataframe tbody tr th {\n",
       "        vertical-align: top;\n",
       "    }\n",
       "\n",
       "    .dataframe thead th {\n",
       "        text-align: right;\n",
       "    }\n",
       "</style>\n",
       "<table border=\"1\" class=\"dataframe\">\n",
       "  <thead>\n",
       "    <tr style=\"text-align: right;\">\n",
       "      <th></th>\n",
       "      <th>sentence</th>\n",
       "    </tr>\n",
       "  </thead>\n",
       "  <tbody>\n",
       "    <tr>\n",
       "      <th>0</th>\n",
       "      <td>Python is a high-level, general-purpose progra...</td>\n",
       "    </tr>\n",
       "    <tr>\n",
       "      <th>1</th>\n",
       "      <td>Its design philosophy emphasizes code readabil...</td>\n",
       "    </tr>\n",
       "    <tr>\n",
       "      <th>2</th>\n",
       "      <td>It supports multiple programming paradigms, in...</td>\n",
       "    </tr>\n",
       "    <tr>\n",
       "      <th>3</th>\n",
       "      <td>It is often described as a \"batteries included...</td>\n",
       "    </tr>\n",
       "    <tr>\n",
       "      <th>4</th>\n",
       "      <td>Python 2.0 was released in 2000.</td>\n",
       "    </tr>\n",
       "  </tbody>\n",
       "</table>\n",
       "</div>"
      ],
      "text/plain": [
       "                                            sentence\n",
       "0  Python is a high-level, general-purpose progra...\n",
       "1  Its design philosophy emphasizes code readabil...\n",
       "2  It supports multiple programming paradigms, in...\n",
       "3  It is often described as a \"batteries included...\n",
       "4                   Python 2.0 was released in 2000."
      ]
     },
     "execution_count": 47,
     "metadata": {},
     "output_type": "execute_result"
    }
   ],
   "source": [
    "df.head()"
   ]
  },
  {
   "cell_type": "code",
   "execution_count": 48,
   "id": "817547da-0d1f-497b-90a3-ed99f289893b",
   "metadata": {
    "tags": []
   },
   "outputs": [
    {
     "name": "stdout",
     "output_type": "stream",
     "text": [
      "<class 'pandas.core.frame.DataFrame'>\n",
      "RangeIndex: 4341 entries, 0 to 4340\n",
      "Data columns (total 1 columns):\n",
      " #   Column    Non-Null Count  Dtype \n",
      "---  ------    --------------  ----- \n",
      " 0   sentence  4341 non-null   object\n",
      "dtypes: object(1)\n",
      "memory usage: 34.0+ KB\n"
     ]
    }
   ],
   "source": [
    "df.info()"
   ]
  },
  {
   "cell_type": "code",
   "execution_count": 49,
   "id": "7fcb8130-1f21-4e9f-a90e-198a0a1d633d",
   "metadata": {
    "tags": []
   },
   "outputs": [
    {
     "data": {
      "text/plain": [
       "(4341, 1)"
      ]
     },
     "execution_count": 49,
     "metadata": {},
     "output_type": "execute_result"
    }
   ],
   "source": [
    "df.shape"
   ]
  },
  {
   "cell_type": "code",
   "execution_count": 50,
   "id": "e515531e-954b-489e-a751-2c1c4d1f2e5b",
   "metadata": {
    "tags": []
   },
   "outputs": [
    {
     "data": {
      "text/plain": [
       "sentence    0\n",
       "dtype: int64"
      ]
     },
     "execution_count": 50,
     "metadata": {},
     "output_type": "execute_result"
    }
   ],
   "source": [
    "df.isnull().sum()"
   ]
  },
  {
   "cell_type": "code",
   "execution_count": 51,
   "id": "eaf85a7c-dcd4-4d89-841b-abbc0f544576",
   "metadata": {
    "tags": []
   },
   "outputs": [
    {
     "data": {
      "text/plain": [
       "0"
      ]
     },
     "execution_count": 51,
     "metadata": {},
     "output_type": "execute_result"
    }
   ],
   "source": [
    "df.duplicated().sum()"
   ]
  },
  {
   "cell_type": "code",
   "execution_count": 52,
   "id": "3553cd99-90ef-4f2e-b8cf-27e3245e51b0",
   "metadata": {
    "tags": []
   },
   "outputs": [],
   "source": [
    "sentences = df['sentence'].head(100).tolist()"
   ]
  },
  {
   "cell_type": "code",
   "execution_count": 53,
   "id": "6bc1058d-dfe8-4272-a68d-830b5a603e1c",
   "metadata": {},
   "outputs": [],
   "source": [
    "tokenizer = Tokenizer()\n",
    "def textTokenizer(text):\n",
    "    token = tokenizer.fit_on_texts(text)"
   ]
  },
  {
   "cell_type": "code",
   "execution_count": 54,
   "id": "78a277a8-e0ef-4097-b248-03036b59338b",
   "metadata": {
    "tags": []
   },
   "outputs": [],
   "source": [
    "textTokenizer(sentences)"
   ]
  },
  {
   "cell_type": "code",
   "execution_count": 55,
   "id": "909ef925-b889-4cef-8f13-ce45e3d3fcf2",
   "metadata": {
    "tags": []
   },
   "outputs": [
    {
     "data": {
      "text/plain": [
       "61"
      ]
     },
     "execution_count": 55,
     "metadata": {},
     "output_type": "execute_result"
    }
   ],
   "source": [
    "len(sentences[0])"
   ]
  },
  {
   "cell_type": "code",
   "execution_count": 56,
   "id": "d0309d86-c978-4567-87ec-758dcba321b4",
   "metadata": {
    "tags": []
   },
   "outputs": [],
   "source": [
    "#tokenizer.word_index"
   ]
  },
  {
   "cell_type": "code",
   "execution_count": 57,
   "id": "e22dc280-36de-4da6-b879-a3a5f7af56a7",
   "metadata": {
    "tags": []
   },
   "outputs": [],
   "source": [
    "input_sequences = []\n",
    "\n",
    "for sentence in sentences:\n",
    "    tokenized_sentences = tokenizer.texts_to_sequences([sentence])[0]\n",
    "\n",
    "    for i in range(1, len(tokenized_sentences)):\n",
    "        n_gram = tokenized_sentences[:i+1]\n",
    "        input_sequences.append(n_gram)"
   ]
  },
  {
   "cell_type": "code",
   "execution_count": 58,
   "id": "6add54ef-5ebb-4644-b75f-7ecde10e4b4f",
   "metadata": {
    "tags": []
   },
   "outputs": [],
   "source": [
    "# input_sequences"
   ]
  },
  {
   "cell_type": "code",
   "execution_count": 16,
   "id": "8d0f3eed-efb0-4d11-be79-fbded795233d",
   "metadata": {
    "tags": []
   },
   "outputs": [],
   "source": [
    "max_len = max([len(x) for x in input_sequences])"
   ]
  },
  {
   "cell_type": "code",
   "execution_count": 17,
   "id": "5e5b38e8-d126-4e58-be9f-e5c13b9f051d",
   "metadata": {
    "tags": []
   },
   "outputs": [
    {
     "data": {
      "text/plain": [
       "77"
      ]
     },
     "execution_count": 17,
     "metadata": {},
     "output_type": "execute_result"
    }
   ],
   "source": [
    "max_len"
   ]
  },
  {
   "cell_type": "code",
   "execution_count": 18,
   "id": "f40f0ff6-79ed-44bc-a51c-26a65faffee0",
   "metadata": {
    "tags": []
   },
   "outputs": [],
   "source": [
    "from tensorflow.keras.preprocessing.sequence import pad_sequences\n",
    "padded_input_sequences = pad_sequences(input_sequences, maxlen = max_len, padding='pre')"
   ]
  },
  {
   "cell_type": "code",
   "execution_count": 19,
   "id": "7d4eac19-0c56-4536-859b-9907fded1d24",
   "metadata": {
    "tags": []
   },
   "outputs": [
    {
     "data": {
      "text/plain": [
       "935"
      ]
     },
     "execution_count": 19,
     "metadata": {},
     "output_type": "execute_result"
    }
   ],
   "source": [
    "total_words = len(tokenizer.word_index) + 1\n",
    "total_words"
   ]
  },
  {
   "cell_type": "code",
   "execution_count": 20,
   "id": "4a07da77-2c9a-471e-8d51-4f5277391577",
   "metadata": {
    "tags": []
   },
   "outputs": [],
   "source": [
    "X = padded_input_sequences[:,:-1]"
   ]
  },
  {
   "cell_type": "code",
   "execution_count": 21,
   "id": "a9f1d9fe-ae21-4625-8591-5e95c2d9699f",
   "metadata": {
    "tags": []
   },
   "outputs": [],
   "source": [
    "y = padded_input_sequences[:,-1]"
   ]
  },
  {
   "cell_type": "code",
   "execution_count": 22,
   "id": "d17969d8-48d8-406a-9ab6-6f5f536951ba",
   "metadata": {
    "tags": []
   },
   "outputs": [
    {
     "data": {
      "text/plain": [
       "76"
      ]
     },
     "execution_count": 22,
     "metadata": {},
     "output_type": "execute_result"
    }
   ],
   "source": [
    "len(X[1])"
   ]
  },
  {
   "cell_type": "code",
   "execution_count": 23,
   "id": "6fa86bf1-b0cc-424f-8f88-1d4dc88ec2be",
   "metadata": {
    "tags": []
   },
   "outputs": [
    {
     "data": {
      "text/plain": [
       "(2221, 76)"
      ]
     },
     "execution_count": 23,
     "metadata": {},
     "output_type": "execute_result"
    }
   ],
   "source": [
    "X.shape"
   ]
  },
  {
   "cell_type": "code",
   "execution_count": 24,
   "id": "84683250-c726-4e37-a11d-cf5565006406",
   "metadata": {
    "tags": []
   },
   "outputs": [],
   "source": [
    "from tensorflow.keras.utils import to_categorical\n",
    "y = to_categorical(y, num_classes=total_words)"
   ]
  },
  {
   "cell_type": "code",
   "execution_count": 25,
   "id": "750ea2ab-fdbb-4042-b3e5-7e2bab1c798c",
   "metadata": {
    "tags": []
   },
   "outputs": [
    {
     "data": {
      "text/plain": [
       "(2221, 935)"
      ]
     },
     "execution_count": 25,
     "metadata": {},
     "output_type": "execute_result"
    }
   ],
   "source": [
    "y.shape"
   ]
  },
  {
   "cell_type": "code",
   "execution_count": 26,
   "id": "fcc68e29-0f36-43f8-9d0c-83973ca78b82",
   "metadata": {
    "tags": []
   },
   "outputs": [],
   "source": [
    "from sklearn.model_selection import train_test_split\n",
    "X_train, X_test, y_train, y_test = train_test_split(X, y, test_size=0.33, random_state=42)"
   ]
  },
  {
   "cell_type": "code",
   "execution_count": 27,
   "id": "e455848e-cd4a-4559-b6e9-726a895c8feb",
   "metadata": {
    "tags": []
   },
   "outputs": [
    {
     "data": {
      "text/plain": [
       "(1488, 76)"
      ]
     },
     "execution_count": 27,
     "metadata": {},
     "output_type": "execute_result"
    }
   ],
   "source": [
    "X_train.shape"
   ]
  },
  {
   "cell_type": "code",
   "execution_count": 28,
   "id": "78830748-531f-482b-883c-bbd76003d68a",
   "metadata": {
    "tags": []
   },
   "outputs": [
    {
     "data": {
      "text/plain": [
       "(1488, 935)"
      ]
     },
     "execution_count": 28,
     "metadata": {},
     "output_type": "execute_result"
    }
   ],
   "source": [
    "y_train.shape"
   ]
  },
  {
   "cell_type": "code",
   "execution_count": 29,
   "id": "e622c5a6-746d-4e2e-a6d0-9e0ba0a610b0",
   "metadata": {
    "tags": []
   },
   "outputs": [],
   "source": [
    "from tensorflow.keras.models import Sequential\n",
    "from tensorflow.keras.layers import Embedding, LSTM, GRU, Dense, Bidirectional\n",
    "from sklearn.metrics import precision_score, recall_score, f1_score"
   ]
  },
  {
   "cell_type": "code",
   "execution_count": 30,
   "id": "b40f92a9-18fd-4de3-9375-7d272a126e0a",
   "metadata": {
    "tags": []
   },
   "outputs": [
    {
     "name": "stderr",
     "output_type": "stream",
     "text": [
      "2023-12-26 11:33:05.995231: I tensorflow/core/common_runtime/executor.cc:1197] [/device:CPU:0] (DEBUG INFO) Executor start aborting (this does not indicate an error and you can ignore this message): INVALID_ARGUMENT: You must feed a value for placeholder tensor 'gradients/split_2_grad/concat/split_2/split_dim' with dtype int32\n",
      "\t [[{{node gradients/split_2_grad/concat/split_2/split_dim}}]]\n",
      "2023-12-26 11:33:05.997149: I tensorflow/core/common_runtime/executor.cc:1197] [/device:CPU:0] (DEBUG INFO) Executor start aborting (this does not indicate an error and you can ignore this message): INVALID_ARGUMENT: You must feed a value for placeholder tensor 'gradients/split_grad/concat/split/split_dim' with dtype int32\n",
      "\t [[{{node gradients/split_grad/concat/split/split_dim}}]]\n",
      "2023-12-26 11:33:05.999105: I tensorflow/core/common_runtime/executor.cc:1197] [/device:CPU:0] (DEBUG INFO) Executor start aborting (this does not indicate an error and you can ignore this message): INVALID_ARGUMENT: You must feed a value for placeholder tensor 'gradients/split_1_grad/concat/split_1/split_dim' with dtype int32\n",
      "\t [[{{node gradients/split_1_grad/concat/split_1/split_dim}}]]\n",
      "2023-12-26 11:33:06.166854: I tensorflow/core/common_runtime/executor.cc:1197] [/device:CPU:0] (DEBUG INFO) Executor start aborting (this does not indicate an error and you can ignore this message): INVALID_ARGUMENT: You must feed a value for placeholder tensor 'gradients/ReverseV2_grad/ReverseV2/ReverseV2/axis' with dtype int32 and shape [1]\n",
      "\t [[{{node gradients/ReverseV2_grad/ReverseV2/ReverseV2/axis}}]]\n",
      "2023-12-26 11:33:06.208928: I tensorflow/core/common_runtime/executor.cc:1197] [/device:CPU:0] (DEBUG INFO) Executor start aborting (this does not indicate an error and you can ignore this message): INVALID_ARGUMENT: You must feed a value for placeholder tensor 'gradients/split_2_grad/concat/split_2/split_dim' with dtype int32\n",
      "\t [[{{node gradients/split_2_grad/concat/split_2/split_dim}}]]\n",
      "2023-12-26 11:33:06.211066: I tensorflow/core/common_runtime/executor.cc:1197] [/device:CPU:0] (DEBUG INFO) Executor start aborting (this does not indicate an error and you can ignore this message): INVALID_ARGUMENT: You must feed a value for placeholder tensor 'gradients/split_grad/concat/split/split_dim' with dtype int32\n",
      "\t [[{{node gradients/split_grad/concat/split/split_dim}}]]\n",
      "2023-12-26 11:33:06.213007: I tensorflow/core/common_runtime/executor.cc:1197] [/device:CPU:0] (DEBUG INFO) Executor start aborting (this does not indicate an error and you can ignore this message): INVALID_ARGUMENT: You must feed a value for placeholder tensor 'gradients/split_1_grad/concat/split_1/split_dim' with dtype int32\n",
      "\t [[{{node gradients/split_1_grad/concat/split_1/split_dim}}]]\n"
     ]
    }
   ],
   "source": [
    "model = Sequential()\n",
    "model.add(Embedding(total_words, 100, input_length=max_len-1))\n",
    "model.add(Bidirectional(GRU(150)))\n",
    "model.add(Dense(total_words, activation='softmax'))"
   ]
  },
  {
   "cell_type": "code",
   "execution_count": 31,
   "id": "3d52348e-76b6-4cb7-a544-e88a4405461c",
   "metadata": {},
   "outputs": [],
   "source": [
    "model.compile(loss='categorical_crossentropy', optimizer='adam', metrics=['accuracy'])"
   ]
  },
  {
   "cell_type": "code",
   "execution_count": 32,
   "id": "abe9dd93-db4f-4a49-bbfa-ce086e15c293",
   "metadata": {
    "tags": []
   },
   "outputs": [
    {
     "name": "stdout",
     "output_type": "stream",
     "text": [
      "Model: \"sequential\"\n",
      "_________________________________________________________________\n",
      " Layer (type)                Output Shape              Param #   \n",
      "=================================================================\n",
      " embedding (Embedding)       (None, 76, 100)           93500     \n",
      "                                                                 \n",
      " bidirectional (Bidirectiona  (None, 300)              226800    \n",
      " l)                                                              \n",
      "                                                                 \n",
      " dense (Dense)               (None, 935)               281435    \n",
      "                                                                 \n",
      "=================================================================\n",
      "Total params: 601,735\n",
      "Trainable params: 601,735\n",
      "Non-trainable params: 0\n",
      "_________________________________________________________________\n"
     ]
    }
   ],
   "source": [
    "model.summary()"
   ]
  },
  {
   "cell_type": "code",
   "execution_count": 33,
   "id": "c41e395f-7df0-4682-b7d6-f9b4b98db55c",
   "metadata": {
    "tags": []
   },
   "outputs": [
    {
     "name": "stdout",
     "output_type": "stream",
     "text": [
      "Epoch 1/100\n"
     ]
    },
    {
     "name": "stderr",
     "output_type": "stream",
     "text": [
      "2023-12-26 11:33:06.619296: I tensorflow/core/common_runtime/executor.cc:1197] [/device:CPU:0] (DEBUG INFO) Executor start aborting (this does not indicate an error and you can ignore this message): INVALID_ARGUMENT: You must feed a value for placeholder tensor 'gradients/split_2_grad/concat/split_2/split_dim' with dtype int32\n",
      "\t [[{{node gradients/split_2_grad/concat/split_2/split_dim}}]]\n",
      "2023-12-26 11:33:06.621329: I tensorflow/core/common_runtime/executor.cc:1197] [/device:CPU:0] (DEBUG INFO) Executor start aborting (this does not indicate an error and you can ignore this message): INVALID_ARGUMENT: You must feed a value for placeholder tensor 'gradients/split_grad/concat/split/split_dim' with dtype int32\n",
      "\t [[{{node gradients/split_grad/concat/split/split_dim}}]]\n",
      "2023-12-26 11:33:06.623306: I tensorflow/core/common_runtime/executor.cc:1197] [/device:CPU:0] (DEBUG INFO) Executor start aborting (this does not indicate an error and you can ignore this message): INVALID_ARGUMENT: You must feed a value for placeholder tensor 'gradients/split_1_grad/concat/split_1/split_dim' with dtype int32\n",
      "\t [[{{node gradients/split_1_grad/concat/split_1/split_dim}}]]\n",
      "2023-12-26 11:33:06.773728: I tensorflow/core/common_runtime/executor.cc:1197] [/device:CPU:0] (DEBUG INFO) Executor start aborting (this does not indicate an error and you can ignore this message): INVALID_ARGUMENT: You must feed a value for placeholder tensor 'gradients/ReverseV2_grad/ReverseV2/ReverseV2/axis' with dtype int32 and shape [1]\n",
      "\t [[{{node gradients/ReverseV2_grad/ReverseV2/ReverseV2/axis}}]]\n",
      "2023-12-26 11:33:06.814942: I tensorflow/core/common_runtime/executor.cc:1197] [/device:CPU:0] (DEBUG INFO) Executor start aborting (this does not indicate an error and you can ignore this message): INVALID_ARGUMENT: You must feed a value for placeholder tensor 'gradients/split_2_grad/concat/split_2/split_dim' with dtype int32\n",
      "\t [[{{node gradients/split_2_grad/concat/split_2/split_dim}}]]\n",
      "2023-12-26 11:33:06.816904: I tensorflow/core/common_runtime/executor.cc:1197] [/device:CPU:0] (DEBUG INFO) Executor start aborting (this does not indicate an error and you can ignore this message): INVALID_ARGUMENT: You must feed a value for placeholder tensor 'gradients/split_grad/concat/split/split_dim' with dtype int32\n",
      "\t [[{{node gradients/split_grad/concat/split/split_dim}}]]\n",
      "2023-12-26 11:33:06.818597: I tensorflow/core/common_runtime/executor.cc:1197] [/device:CPU:0] (DEBUG INFO) Executor start aborting (this does not indicate an error and you can ignore this message): INVALID_ARGUMENT: You must feed a value for placeholder tensor 'gradients/split_1_grad/concat/split_1/split_dim' with dtype int32\n",
      "\t [[{{node gradients/split_1_grad/concat/split_1/split_dim}}]]\n",
      "2023-12-26 11:33:07.487505: I tensorflow/core/common_runtime/executor.cc:1197] [/device:CPU:0] (DEBUG INFO) Executor start aborting (this does not indicate an error and you can ignore this message): INVALID_ARGUMENT: You must feed a value for placeholder tensor 'gradients/ReverseV2_grad/ReverseV2/ReverseV2/axis' with dtype int32 and shape [1]\n",
      "\t [[{{node gradients/ReverseV2_grad/ReverseV2/ReverseV2/axis}}]]\n",
      "2023-12-26 11:33:08.425286: I tensorflow/core/common_runtime/executor.cc:1197] [/device:CPU:0] (DEBUG INFO) Executor start aborting (this does not indicate an error and you can ignore this message): INVALID_ARGUMENT: You must feed a value for placeholder tensor 'gradients/split_2_grad/concat/split_2/split_dim' with dtype int32\n",
      "\t [[{{node gradients/split_2_grad/concat/split_2/split_dim}}]]\n",
      "2023-12-26 11:33:08.428222: I tensorflow/core/common_runtime/executor.cc:1197] [/device:CPU:0] (DEBUG INFO) Executor start aborting (this does not indicate an error and you can ignore this message): INVALID_ARGUMENT: You must feed a value for placeholder tensor 'gradients/split_grad/concat/split/split_dim' with dtype int32\n",
      "\t [[{{node gradients/split_grad/concat/split/split_dim}}]]\n",
      "2023-12-26 11:33:08.430024: I tensorflow/core/common_runtime/executor.cc:1197] [/device:CPU:0] (DEBUG INFO) Executor start aborting (this does not indicate an error and you can ignore this message): INVALID_ARGUMENT: You must feed a value for placeholder tensor 'gradients/split_1_grad/concat/split_1/split_dim' with dtype int32\n",
      "\t [[{{node gradients/split_1_grad/concat/split_1/split_dim}}]]\n",
      "2023-12-26 11:33:08.631934: I tensorflow/core/common_runtime/executor.cc:1197] [/device:CPU:0] (DEBUG INFO) Executor start aborting (this does not indicate an error and you can ignore this message): INVALID_ARGUMENT: You must feed a value for placeholder tensor 'gradients/ReverseV2_grad/ReverseV2/ReverseV2/axis' with dtype int32 and shape [1]\n",
      "\t [[{{node gradients/ReverseV2_grad/ReverseV2/ReverseV2/axis}}]]\n",
      "2023-12-26 11:33:08.704971: I tensorflow/core/common_runtime/executor.cc:1197] [/device:CPU:0] (DEBUG INFO) Executor start aborting (this does not indicate an error and you can ignore this message): INVALID_ARGUMENT: You must feed a value for placeholder tensor 'gradients/split_2_grad/concat/split_2/split_dim' with dtype int32\n",
      "\t [[{{node gradients/split_2_grad/concat/split_2/split_dim}}]]\n",
      "2023-12-26 11:33:08.707138: I tensorflow/core/common_runtime/executor.cc:1197] [/device:CPU:0] (DEBUG INFO) Executor start aborting (this does not indicate an error and you can ignore this message): INVALID_ARGUMENT: You must feed a value for placeholder tensor 'gradients/split_grad/concat/split/split_dim' with dtype int32\n",
      "\t [[{{node gradients/split_grad/concat/split/split_dim}}]]\n",
      "2023-12-26 11:33:08.709720: I tensorflow/core/common_runtime/executor.cc:1197] [/device:CPU:0] (DEBUG INFO) Executor start aborting (this does not indicate an error and you can ignore this message): INVALID_ARGUMENT: You must feed a value for placeholder tensor 'gradients/split_1_grad/concat/split_1/split_dim' with dtype int32\n",
      "\t [[{{node gradients/split_1_grad/concat/split_1/split_dim}}]]\n",
      "2023-12-26 11:33:09.454531: I tensorflow/core/common_runtime/executor.cc:1197] [/device:CPU:0] (DEBUG INFO) Executor start aborting (this does not indicate an error and you can ignore this message): INVALID_ARGUMENT: You must feed a value for placeholder tensor 'gradients/ReverseV2_grad/ReverseV2/ReverseV2/axis' with dtype int32 and shape [1]\n",
      "\t [[{{node gradients/ReverseV2_grad/ReverseV2/ReverseV2/axis}}]]\n"
     ]
    },
    {
     "name": "stdout",
     "output_type": "stream",
     "text": [
      "47/47 [==============================] - ETA: 0s - loss: 6.5975 - accuracy: 0.0363"
     ]
    },
    {
     "name": "stderr",
     "output_type": "stream",
     "text": [
      "2023-12-26 11:33:18.145751: I tensorflow/core/common_runtime/executor.cc:1197] [/device:CPU:0] (DEBUG INFO) Executor start aborting (this does not indicate an error and you can ignore this message): INVALID_ARGUMENT: You must feed a value for placeholder tensor 'gradients/split_2_grad/concat/split_2/split_dim' with dtype int32\n",
      "\t [[{{node gradients/split_2_grad/concat/split_2/split_dim}}]]\n",
      "2023-12-26 11:33:18.147974: I tensorflow/core/common_runtime/executor.cc:1197] [/device:CPU:0] (DEBUG INFO) Executor start aborting (this does not indicate an error and you can ignore this message): INVALID_ARGUMENT: You must feed a value for placeholder tensor 'gradients/split_grad/concat/split/split_dim' with dtype int32\n",
      "\t [[{{node gradients/split_grad/concat/split/split_dim}}]]\n",
      "2023-12-26 11:33:18.149684: I tensorflow/core/common_runtime/executor.cc:1197] [/device:CPU:0] (DEBUG INFO) Executor start aborting (this does not indicate an error and you can ignore this message): INVALID_ARGUMENT: You must feed a value for placeholder tensor 'gradients/split_1_grad/concat/split_1/split_dim' with dtype int32\n",
      "\t [[{{node gradients/split_1_grad/concat/split_1/split_dim}}]]\n",
      "2023-12-26 11:33:18.310323: I tensorflow/core/common_runtime/executor.cc:1197] [/device:CPU:0] (DEBUG INFO) Executor start aborting (this does not indicate an error and you can ignore this message): INVALID_ARGUMENT: You must feed a value for placeholder tensor 'gradients/ReverseV2_grad/ReverseV2/ReverseV2/axis' with dtype int32 and shape [1]\n",
      "\t [[{{node gradients/ReverseV2_grad/ReverseV2/ReverseV2/axis}}]]\n",
      "2023-12-26 11:33:18.355339: I tensorflow/core/common_runtime/executor.cc:1197] [/device:CPU:0] (DEBUG INFO) Executor start aborting (this does not indicate an error and you can ignore this message): INVALID_ARGUMENT: You must feed a value for placeholder tensor 'gradients/split_2_grad/concat/split_2/split_dim' with dtype int32\n",
      "\t [[{{node gradients/split_2_grad/concat/split_2/split_dim}}]]\n",
      "2023-12-26 11:33:18.356639: I tensorflow/core/common_runtime/executor.cc:1197] [/device:CPU:0] (DEBUG INFO) Executor start aborting (this does not indicate an error and you can ignore this message): INVALID_ARGUMENT: You must feed a value for placeholder tensor 'gradients/split_grad/concat/split/split_dim' with dtype int32\n",
      "\t [[{{node gradients/split_grad/concat/split/split_dim}}]]\n",
      "2023-12-26 11:33:18.358000: I tensorflow/core/common_runtime/executor.cc:1197] [/device:CPU:0] (DEBUG INFO) Executor start aborting (this does not indicate an error and you can ignore this message): INVALID_ARGUMENT: You must feed a value for placeholder tensor 'gradients/split_1_grad/concat/split_1/split_dim' with dtype int32\n",
      "\t [[{{node gradients/split_1_grad/concat/split_1/split_dim}}]]\n"
     ]
    },
    {
     "name": "stdout",
     "output_type": "stream",
     "text": [
      "47/47 [==============================] - 13s 195ms/step - loss: 6.5975 - accuracy: 0.0363 - val_loss: 6.3183 - val_accuracy: 0.0532\n",
      "Epoch 2/100\n",
      "47/47 [==============================] - 7s 157ms/step - loss: 6.0449 - accuracy: 0.0397 - val_loss: 6.5150 - val_accuracy: 0.0532\n",
      "Epoch 3/100\n",
      "47/47 [==============================] - 8s 162ms/step - loss: 5.8956 - accuracy: 0.0491 - val_loss: 6.5833 - val_accuracy: 0.0641\n",
      "Epoch 4/100\n",
      "47/47 [==============================] - 7s 156ms/step - loss: 5.6888 - accuracy: 0.0578 - val_loss: 6.7243 - val_accuracy: 0.0859\n",
      "Epoch 5/100\n",
      "47/47 [==============================] - 9s 183ms/step - loss: 5.3505 - accuracy: 0.0948 - val_loss: 6.9761 - val_accuracy: 0.0955\n",
      "Epoch 6/100\n",
      "47/47 [==============================] - 7s 159ms/step - loss: 4.9122 - accuracy: 0.1290 - val_loss: 7.0364 - val_accuracy: 0.0805\n",
      "Epoch 7/100\n",
      "47/47 [==============================] - 8s 173ms/step - loss: 4.4179 - accuracy: 0.1707 - val_loss: 7.1368 - val_accuracy: 0.0832\n",
      "Epoch 8/100\n",
      "47/47 [==============================] - 8s 171ms/step - loss: 3.9439 - accuracy: 0.2171 - val_loss: 7.4049 - val_accuracy: 0.0750\n",
      "Epoch 9/100\n",
      "47/47 [==============================] - 7s 155ms/step - loss: 3.4825 - accuracy: 0.2722 - val_loss: 7.5657 - val_accuracy: 0.0778\n",
      "Epoch 10/100\n",
      "47/47 [==============================] - 8s 166ms/step - loss: 3.0672 - accuracy: 0.3333 - val_loss: 7.7384 - val_accuracy: 0.0709\n",
      "Epoch 11/100\n",
      "47/47 [==============================] - 8s 168ms/step - loss: 2.6830 - accuracy: 0.4281 - val_loss: 7.9037 - val_accuracy: 0.0750\n",
      "Epoch 12/100\n",
      "47/47 [==============================] - 8s 162ms/step - loss: 2.3194 - accuracy: 0.5370 - val_loss: 8.1406 - val_accuracy: 0.0723\n",
      "Epoch 13/100\n",
      "47/47 [==============================] - 8s 165ms/step - loss: 2.0002 - accuracy: 0.6210 - val_loss: 8.3444 - val_accuracy: 0.0709\n",
      "Epoch 14/100\n",
      "47/47 [==============================] - 8s 172ms/step - loss: 1.7108 - accuracy: 0.6989 - val_loss: 8.4380 - val_accuracy: 0.0641\n",
      "Epoch 15/100\n",
      "47/47 [==============================] - 8s 173ms/step - loss: 1.4532 - accuracy: 0.7749 - val_loss: 8.5936 - val_accuracy: 0.0737\n",
      "Epoch 16/100\n",
      "47/47 [==============================] - 8s 168ms/step - loss: 1.2246 - accuracy: 0.8293 - val_loss: 8.7568 - val_accuracy: 0.0614\n",
      "Epoch 17/100\n",
      "47/47 [==============================] - 8s 171ms/step - loss: 1.0404 - accuracy: 0.8683 - val_loss: 8.8723 - val_accuracy: 0.0641\n",
      "Epoch 18/100\n",
      "47/47 [==============================] - 9s 182ms/step - loss: 0.8792 - accuracy: 0.8905 - val_loss: 9.0014 - val_accuracy: 0.0600\n",
      "Epoch 19/100\n",
      "47/47 [==============================] - 7s 152ms/step - loss: 0.7474 - accuracy: 0.9160 - val_loss: 9.0968 - val_accuracy: 0.0614\n",
      "Epoch 20/100\n",
      "47/47 [==============================] - 8s 161ms/step - loss: 0.6400 - accuracy: 0.9288 - val_loss: 9.2377 - val_accuracy: 0.0628\n",
      "Epoch 21/100\n",
      "47/47 [==============================] - 7s 153ms/step - loss: 0.5524 - accuracy: 0.9422 - val_loss: 9.2706 - val_accuracy: 0.0628\n",
      "Epoch 22/100\n",
      "47/47 [==============================] - 8s 167ms/step - loss: 0.4746 - accuracy: 0.9556 - val_loss: 9.4180 - val_accuracy: 0.0641\n",
      "Epoch 23/100\n",
      "47/47 [==============================] - 7s 159ms/step - loss: 0.4153 - accuracy: 0.9590 - val_loss: 9.4761 - val_accuracy: 0.0600\n",
      "Epoch 24/100\n",
      "47/47 [==============================] - 8s 166ms/step - loss: 0.3646 - accuracy: 0.9651 - val_loss: 9.5246 - val_accuracy: 0.0641\n",
      "Epoch 25/100\n",
      "47/47 [==============================] - 8s 175ms/step - loss: 0.3237 - accuracy: 0.9657 - val_loss: 9.6019 - val_accuracy: 0.0655\n",
      "Epoch 26/100\n",
      "47/47 [==============================] - 8s 181ms/step - loss: 0.2900 - accuracy: 0.9684 - val_loss: 9.7240 - val_accuracy: 0.0655\n",
      "Epoch 27/100\n",
      "47/47 [==============================] - 8s 167ms/step - loss: 0.2627 - accuracy: 0.9691 - val_loss: 9.7342 - val_accuracy: 0.0641\n",
      "Epoch 28/100\n",
      "47/47 [==============================] - 8s 163ms/step - loss: 0.2335 - accuracy: 0.9711 - val_loss: 9.7698 - val_accuracy: 0.0641\n",
      "Epoch 29/100\n",
      "47/47 [==============================] - 9s 186ms/step - loss: 0.2133 - accuracy: 0.9751 - val_loss: 9.8235 - val_accuracy: 0.0641\n",
      "Epoch 30/100\n",
      "47/47 [==============================] - 8s 180ms/step - loss: 0.1939 - accuracy: 0.9745 - val_loss: 9.8674 - val_accuracy: 0.0628\n",
      "Epoch 31/100\n",
      "47/47 [==============================] - 9s 183ms/step - loss: 0.1794 - accuracy: 0.9745 - val_loss: 9.9148 - val_accuracy: 0.0668\n",
      "Epoch 32/100\n",
      "47/47 [==============================] - 8s 162ms/step - loss: 0.1664 - accuracy: 0.9731 - val_loss: 9.9430 - val_accuracy: 0.0641\n",
      "Epoch 33/100\n",
      "47/47 [==============================] - 8s 179ms/step - loss: 0.1545 - accuracy: 0.9724 - val_loss: 9.9945 - val_accuracy: 0.0641\n",
      "Epoch 34/100\n",
      "47/47 [==============================] - 8s 159ms/step - loss: 0.1436 - accuracy: 0.9738 - val_loss: 10.0254 - val_accuracy: 0.0655\n",
      "Epoch 35/100\n",
      "47/47 [==============================] - 8s 182ms/step - loss: 0.1344 - accuracy: 0.9718 - val_loss: 10.0762 - val_accuracy: 0.0641\n",
      "Epoch 36/100\n",
      "47/47 [==============================] - 7s 160ms/step - loss: 0.1284 - accuracy: 0.9724 - val_loss: 10.1005 - val_accuracy: 0.0628\n",
      "Epoch 37/100\n",
      "47/47 [==============================] - 7s 154ms/step - loss: 0.1208 - accuracy: 0.9731 - val_loss: 10.1834 - val_accuracy: 0.0628\n",
      "Epoch 38/100\n",
      "47/47 [==============================] - 7s 144ms/step - loss: 0.1159 - accuracy: 0.9724 - val_loss: 10.1745 - val_accuracy: 0.0614\n",
      "Epoch 39/100\n",
      "47/47 [==============================] - 8s 179ms/step - loss: 0.1088 - accuracy: 0.9738 - val_loss: 10.2337 - val_accuracy: 0.0641\n",
      "Epoch 40/100\n",
      "47/47 [==============================] - 8s 167ms/step - loss: 0.1050 - accuracy: 0.9738 - val_loss: 10.2477 - val_accuracy: 0.0655\n",
      "Epoch 41/100\n",
      "47/47 [==============================] - 8s 160ms/step - loss: 0.1002 - accuracy: 0.9751 - val_loss: 10.3144 - val_accuracy: 0.0641\n",
      "Epoch 42/100\n",
      "47/47 [==============================] - 7s 159ms/step - loss: 0.0976 - accuracy: 0.9718 - val_loss: 10.3504 - val_accuracy: 0.0641\n",
      "Epoch 43/100\n",
      "47/47 [==============================] - 8s 164ms/step - loss: 0.0925 - accuracy: 0.9758 - val_loss: 10.3539 - val_accuracy: 0.0655\n",
      "Epoch 44/100\n",
      "47/47 [==============================] - 8s 176ms/step - loss: 0.0927 - accuracy: 0.9731 - val_loss: 10.4094 - val_accuracy: 0.0655\n",
      "Epoch 45/100\n",
      "47/47 [==============================] - 8s 175ms/step - loss: 0.0884 - accuracy: 0.9724 - val_loss: 10.4237 - val_accuracy: 0.0655\n",
      "Epoch 46/100\n",
      "47/47 [==============================] - 8s 171ms/step - loss: 0.0852 - accuracy: 0.9738 - val_loss: 10.4356 - val_accuracy: 0.0655\n",
      "Epoch 47/100\n",
      "47/47 [==============================] - 8s 177ms/step - loss: 0.0846 - accuracy: 0.9718 - val_loss: 10.4766 - val_accuracy: 0.0655\n",
      "Epoch 48/100\n",
      "47/47 [==============================] - 8s 167ms/step - loss: 0.0815 - accuracy: 0.9731 - val_loss: 10.5183 - val_accuracy: 0.0641\n",
      "Epoch 49/100\n",
      "47/47 [==============================] - 8s 168ms/step - loss: 0.0812 - accuracy: 0.9758 - val_loss: 10.5406 - val_accuracy: 0.0655\n",
      "Epoch 50/100\n",
      "47/47 [==============================] - 8s 167ms/step - loss: 0.0788 - accuracy: 0.9731 - val_loss: 10.5682 - val_accuracy: 0.0655\n",
      "Epoch 51/100\n",
      "47/47 [==============================] - 9s 185ms/step - loss: 0.0754 - accuracy: 0.9731 - val_loss: 10.5798 - val_accuracy: 0.0655\n",
      "Epoch 52/100\n",
      "47/47 [==============================] - 7s 158ms/step - loss: 0.0758 - accuracy: 0.9691 - val_loss: 10.6107 - val_accuracy: 0.0668\n",
      "Epoch 53/100\n",
      "47/47 [==============================] - 9s 192ms/step - loss: 0.0735 - accuracy: 0.9751 - val_loss: 10.6445 - val_accuracy: 0.0682\n",
      "Epoch 54/100\n",
      "47/47 [==============================] - 7s 158ms/step - loss: 0.0727 - accuracy: 0.9731 - val_loss: 10.6414 - val_accuracy: 0.0668\n",
      "Epoch 55/100\n",
      "47/47 [==============================] - 8s 175ms/step - loss: 0.0722 - accuracy: 0.9704 - val_loss: 10.6900 - val_accuracy: 0.0668\n",
      "Epoch 56/100\n",
      "47/47 [==============================] - 8s 179ms/step - loss: 0.0710 - accuracy: 0.9751 - val_loss: 10.7107 - val_accuracy: 0.0668\n",
      "Epoch 57/100\n",
      "47/47 [==============================] - 8s 164ms/step - loss: 0.0700 - accuracy: 0.9711 - val_loss: 10.7376 - val_accuracy: 0.0641\n",
      "Epoch 58/100\n",
      "47/47 [==============================] - 7s 159ms/step - loss: 0.0689 - accuracy: 0.9724 - val_loss: 10.7399 - val_accuracy: 0.0655\n",
      "Epoch 59/100\n",
      "47/47 [==============================] - 9s 192ms/step - loss: 0.0684 - accuracy: 0.9724 - val_loss: 10.7822 - val_accuracy: 0.0641\n",
      "Epoch 60/100\n",
      "47/47 [==============================] - 8s 162ms/step - loss: 0.0662 - accuracy: 0.9745 - val_loss: 10.8086 - val_accuracy: 0.0682\n",
      "Epoch 61/100\n",
      "47/47 [==============================] - 8s 165ms/step - loss: 0.0663 - accuracy: 0.9724 - val_loss: 10.8263 - val_accuracy: 0.0668\n",
      "Epoch 62/100\n",
      "47/47 [==============================] - 8s 168ms/step - loss: 0.0648 - accuracy: 0.9745 - val_loss: 10.8238 - val_accuracy: 0.0668\n",
      "Epoch 63/100\n",
      "47/47 [==============================] - 8s 172ms/step - loss: 0.0634 - accuracy: 0.9718 - val_loss: 10.8364 - val_accuracy: 0.0655\n",
      "Epoch 64/100\n",
      "47/47 [==============================] - 8s 168ms/step - loss: 0.0640 - accuracy: 0.9711 - val_loss: 10.9062 - val_accuracy: 0.0682\n",
      "Epoch 65/100\n",
      "47/47 [==============================] - 8s 162ms/step - loss: 0.0627 - accuracy: 0.9724 - val_loss: 10.9073 - val_accuracy: 0.0655\n",
      "Epoch 66/100\n",
      "47/47 [==============================] - 7s 157ms/step - loss: 0.0638 - accuracy: 0.9745 - val_loss: 10.9251 - val_accuracy: 0.0655\n",
      "Epoch 67/100\n",
      "47/47 [==============================] - 8s 170ms/step - loss: 0.0638 - accuracy: 0.9724 - val_loss: 10.9724 - val_accuracy: 0.0655\n",
      "Epoch 68/100\n",
      "47/47 [==============================] - 8s 165ms/step - loss: 0.0603 - accuracy: 0.9724 - val_loss: 10.9635 - val_accuracy: 0.0682\n",
      "Epoch 69/100\n",
      "47/47 [==============================] - 8s 161ms/step - loss: 0.0619 - accuracy: 0.9745 - val_loss: 10.9874 - val_accuracy: 0.0668\n",
      "Epoch 70/100\n",
      "47/47 [==============================] - 8s 164ms/step - loss: 0.0601 - accuracy: 0.9738 - val_loss: 11.0007 - val_accuracy: 0.0641\n",
      "Epoch 71/100\n",
      "47/47 [==============================] - 7s 151ms/step - loss: 0.0589 - accuracy: 0.9745 - val_loss: 11.0149 - val_accuracy: 0.0641\n",
      "Epoch 72/100\n",
      "47/47 [==============================] - 7s 158ms/step - loss: 0.0602 - accuracy: 0.9684 - val_loss: 11.0200 - val_accuracy: 0.0668\n",
      "Epoch 73/100\n",
      "47/47 [==============================] - 7s 153ms/step - loss: 0.0582 - accuracy: 0.9724 - val_loss: 11.0505 - val_accuracy: 0.0668\n",
      "Epoch 74/100\n",
      "47/47 [==============================] - 8s 162ms/step - loss: 0.0584 - accuracy: 0.9758 - val_loss: 11.0592 - val_accuracy: 0.0655\n",
      "Epoch 75/100\n",
      "47/47 [==============================] - 8s 174ms/step - loss: 0.0584 - accuracy: 0.9731 - val_loss: 11.0814 - val_accuracy: 0.0668\n",
      "Epoch 76/100\n",
      "47/47 [==============================] - 8s 176ms/step - loss: 0.0580 - accuracy: 0.9731 - val_loss: 11.0937 - val_accuracy: 0.0655\n",
      "Epoch 77/100\n",
      "47/47 [==============================] - 7s 157ms/step - loss: 0.0574 - accuracy: 0.9724 - val_loss: 11.1341 - val_accuracy: 0.0628\n",
      "Epoch 78/100\n",
      "47/47 [==============================] - 8s 166ms/step - loss: 0.0582 - accuracy: 0.9745 - val_loss: 11.1584 - val_accuracy: 0.0668\n",
      "Epoch 79/100\n",
      "47/47 [==============================] - 8s 161ms/step - loss: 0.0576 - accuracy: 0.9731 - val_loss: 11.1584 - val_accuracy: 0.0641\n",
      "Epoch 80/100\n",
      "47/47 [==============================] - 7s 156ms/step - loss: 0.0573 - accuracy: 0.9731 - val_loss: 11.1611 - val_accuracy: 0.0655\n",
      "Epoch 81/100\n",
      "47/47 [==============================] - 7s 155ms/step - loss: 0.0579 - accuracy: 0.9724 - val_loss: 11.1632 - val_accuracy: 0.0614\n",
      "Epoch 82/100\n",
      "47/47 [==============================] - 7s 159ms/step - loss: 0.0570 - accuracy: 0.9731 - val_loss: 11.1524 - val_accuracy: 0.0655\n",
      "Epoch 83/100\n",
      "47/47 [==============================] - 7s 156ms/step - loss: 0.0549 - accuracy: 0.9731 - val_loss: 11.1776 - val_accuracy: 0.0655\n",
      "Epoch 84/100\n",
      "47/47 [==============================] - 7s 156ms/step - loss: 0.0547 - accuracy: 0.9745 - val_loss: 11.1958 - val_accuracy: 0.0641\n",
      "Epoch 85/100\n",
      "47/47 [==============================] - 7s 148ms/step - loss: 0.0557 - accuracy: 0.9738 - val_loss: 11.2003 - val_accuracy: 0.0655\n",
      "Epoch 86/100\n",
      "47/47 [==============================] - 8s 167ms/step - loss: 0.0555 - accuracy: 0.9711 - val_loss: 11.2324 - val_accuracy: 0.0641\n",
      "Epoch 87/100\n",
      "47/47 [==============================] - 7s 148ms/step - loss: 0.0543 - accuracy: 0.9765 - val_loss: 11.2442 - val_accuracy: 0.0628\n",
      "Epoch 88/100\n",
      "47/47 [==============================] - 7s 151ms/step - loss: 0.0536 - accuracy: 0.9738 - val_loss: 11.2580 - val_accuracy: 0.0641\n",
      "Epoch 89/100\n",
      "47/47 [==============================] - 8s 174ms/step - loss: 0.0558 - accuracy: 0.9751 - val_loss: 11.2452 - val_accuracy: 0.0641\n",
      "Epoch 90/100\n",
      "47/47 [==============================] - 7s 153ms/step - loss: 0.0548 - accuracy: 0.9724 - val_loss: 11.2796 - val_accuracy: 0.0655\n",
      "Epoch 91/100\n",
      "47/47 [==============================] - 8s 174ms/step - loss: 0.0534 - accuracy: 0.9758 - val_loss: 11.2970 - val_accuracy: 0.0641\n",
      "Epoch 92/100\n",
      "47/47 [==============================] - 8s 167ms/step - loss: 0.0542 - accuracy: 0.9738 - val_loss: 11.3343 - val_accuracy: 0.0655\n",
      "Epoch 93/100\n",
      "47/47 [==============================] - 8s 179ms/step - loss: 0.0539 - accuracy: 0.9731 - val_loss: 11.3251 - val_accuracy: 0.0655\n",
      "Epoch 94/100\n",
      "47/47 [==============================] - 7s 158ms/step - loss: 0.0539 - accuracy: 0.9738 - val_loss: 11.3593 - val_accuracy: 0.0641\n",
      "Epoch 95/100\n",
      "47/47 [==============================] - 8s 179ms/step - loss: 0.0532 - accuracy: 0.9738 - val_loss: 11.3696 - val_accuracy: 0.0641\n",
      "Epoch 96/100\n",
      "47/47 [==============================] - 8s 175ms/step - loss: 0.0525 - accuracy: 0.9731 - val_loss: 11.4198 - val_accuracy: 0.0628\n",
      "Epoch 97/100\n",
      "47/47 [==============================] - 8s 179ms/step - loss: 0.0524 - accuracy: 0.9751 - val_loss: 11.4013 - val_accuracy: 0.0641\n",
      "Epoch 98/100\n",
      "47/47 [==============================] - 8s 167ms/step - loss: 0.0523 - accuracy: 0.9758 - val_loss: 11.3955 - val_accuracy: 0.0641\n",
      "Epoch 99/100\n",
      "47/47 [==============================] - 8s 165ms/step - loss: 0.0528 - accuracy: 0.9718 - val_loss: 11.4333 - val_accuracy: 0.0628\n",
      "Epoch 100/100\n",
      "47/47 [==============================] - 8s 175ms/step - loss: 0.0568 - accuracy: 0.9711 - val_loss: 11.4534 - val_accuracy: 0.0628\n"
     ]
    },
    {
     "data": {
      "text/plain": [
       "<keras.callbacks.History at 0x7f141d62fca0>"
      ]
     },
     "execution_count": 33,
     "metadata": {},
     "output_type": "execute_result"
    }
   ],
   "source": [
    "model.fit(X_train, y_train, epochs=100, validation_data=(X_test, y_test))"
   ]
  },
  {
   "cell_type": "code",
   "execution_count": 44,
   "id": "e4bd89d2-b95e-4e39-8b60-e90fa680b3c1",
   "metadata": {},
   "outputs": [
    {
     "name": "stdout",
     "output_type": "stream",
     "text": [
      "1/1 [==============================] - 0s 64ms/step\n",
      "Nothing intelligence\n",
      "1/1 [==============================] - 0s 39ms/step\n",
      "Nothing intelligence ai\n",
      "1/1 [==============================] - 0s 35ms/step\n",
      "Nothing intelligence ai is\n",
      "1/1 [==============================] - 0s 47ms/step\n",
      "Nothing intelligence ai is central\n",
      "1/1 [==============================] - 0s 47ms/step\n",
      "Nothing intelligence ai is central to\n",
      "1/1 [==============================] - 0s 53ms/step\n",
      "Nothing intelligence ai is central to programming\n",
      "1/1 [==============================] - 0s 39ms/step\n",
      "Nothing intelligence ai is central to programming languages\n",
      "1/1 [==============================] - 0s 30ms/step\n",
      "Nothing intelligence ai is central to programming languages derived\n",
      "1/1 [==============================] - 0s 43ms/step\n",
      "Nothing intelligence ai is central to programming languages derived from\n"
     ]
    }
   ],
   "source": [
    "text = \"Nothing\"\n",
    "\n",
    "for i in range(9):\n",
    "  token_text = tokenizer.texts_to_sequences([text])[0]\n",
    "  padded_token_text = pad_sequences([token_text], maxlen=max_len-1, padding='pre')\n",
    "  result = model.predict(padded_token_text)\n",
    "\n",
    "  pos = np.argmax(result)\n",
    "\n",
    "  for word, index in tokenizer.word_index.items():\n",
    "    if index == pos:\n",
    "      text = text + \" \" + word\n",
    "      print(text)"
   ]
  },
  {
   "cell_type": "code",
   "execution_count": null,
   "id": "f219b86d-9abb-44a6-bb9e-6a0631cb773e",
   "metadata": {},
   "outputs": [],
   "source": []
  },
  {
   "cell_type": "code",
   "execution_count": null,
   "id": "ef546167-abf9-4ccd-99c6-718609dbf5e4",
   "metadata": {},
   "outputs": [],
   "source": []
  }
 ],
 "metadata": {
  "kernelspec": {
   "display_name": "sagemaker-distribution:Python",
   "language": "python",
   "name": "conda-env-sagemaker-distribution-py"
  },
  "language_info": {
   "codemirror_mode": {
    "name": "ipython",
    "version": 3
   },
   "file_extension": ".py",
   "mimetype": "text/x-python",
   "name": "python",
   "nbconvert_exporter": "python",
   "pygments_lexer": "ipython3",
   "version": "3.8.17"
  },
  "toc-autonumbering": true,
  "toc-showcode": true,
  "toc-showmarkdowntxt": true
 },
 "nbformat": 4,
 "nbformat_minor": 5
}
